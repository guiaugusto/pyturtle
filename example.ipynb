{
 "cells": [
  {
   "cell_type": "code",
   "execution_count": 1,
   "id": "ca236d23",
   "metadata": {},
   "outputs": [
    {
     "name": "stdout",
     "output_type": "stream",
     "text": [
      "Installing /home/guilherme/Documentos/others/teste/ipyxturtle/ipyxturtle/nbextension -> ipyxturtle\n",
      "Out of date: /home/guilherme/.local/share/jupyter/nbextensions/ipyxturtle/23d3dc43a7ebe54f7dcbf2bc658de693.png\n",
      "Copying: /home/guilherme/Documentos/others/teste/ipyxturtle/ipyxturtle/nbextension/23d3dc43a7ebe54f7dcbf2bc658de693.png -> /home/guilherme/.local/share/jupyter/nbextensions/ipyxturtle/23d3dc43a7ebe54f7dcbf2bc658de693.png\n",
      "Out of date: /home/guilherme/.local/share/jupyter/nbextensions/ipyxturtle/extension.js\n",
      "Copying: /home/guilherme/Documentos/others/teste/ipyxturtle/ipyxturtle/nbextension/extension.js -> /home/guilherme/.local/share/jupyter/nbextensions/ipyxturtle/extension.js\n",
      "Out of date: /home/guilherme/.local/share/jupyter/nbextensions/ipyxturtle/index.js\n",
      "Copying: /home/guilherme/Documentos/others/teste/ipyxturtle/ipyxturtle/nbextension/index.js -> /home/guilherme/.local/share/jupyter/nbextensions/ipyxturtle/index.js\n",
      "Out of date: /home/guilherme/.local/share/jupyter/nbextensions/ipyxturtle/97466b07c2424184308f22f5928448ec.png\n",
      "Copying: /home/guilherme/Documentos/others/teste/ipyxturtle/ipyxturtle/nbextension/97466b07c2424184308f22f5928448ec.png -> /home/guilherme/.local/share/jupyter/nbextensions/ipyxturtle/97466b07c2424184308f22f5928448ec.png\n",
      "- Validating: \u001b[32mOK\u001b[0m\n",
      "\n",
      "    To initialize this nbextension in the browser every time the notebook (or other app) loads:\n",
      "    \n",
      "          jupyter nbextension enable ipyxturtle --user --py\n",
      "    \n",
      "Enabling notebook extension ipyxturtle/extension...\n",
      "      - Validating: \u001b[32mOK\u001b[0m\n"
     ]
    }
   ],
   "source": [
    "!jupyter nbextension install --py ipyxturtle --user\n",
    "!jupyter nbextension enable --sys-prefix --py ipyxturtle"
   ]
  },
  {
   "cell_type": "code",
   "execution_count": 2,
   "id": "01d2370e",
   "metadata": {},
   "outputs": [
    {
     "data": {
      "application/vnd.jupyter.widget-view+json": {
       "model_id": "7b1652fa314c4e2d94482c0e3b2db800",
       "version_major": 2,
       "version_minor": 0
      },
      "text/plain": [
       "TurtleCanvas()"
      ]
     },
     "metadata": {},
     "output_type": "display_data"
    }
   ],
   "source": [
    "from ipyxturtle import TurtleCanvas\n",
    "canvas = TurtleCanvas()\n",
    "canvas"
   ]
  },
  {
   "cell_type": "code",
   "execution_count": 3,
   "id": "2e76672d",
   "metadata": {},
   "outputs": [],
   "source": [
    "turtle = canvas.create_turtle()\n",
    "turtle2 = canvas.create_turtle()"
   ]
  },
  {
   "cell_type": "code",
   "execution_count": 4,
   "id": "e3836bd8",
   "metadata": {},
   "outputs": [],
   "source": [
    "for i in range(20):\n",
    "    turtle2.forward(i * 10)\n",
    "    turtle2.right(80)\n",
    "    turtle.forward(i * 10)\n",
    "    turtle.right(144)"
   ]
  },
  {
   "cell_type": "code",
   "execution_count": null,
   "id": "b66828fd",
   "metadata": {},
   "outputs": [],
   "source": []
  }
 ],
 "metadata": {
  "kernelspec": {
   "display_name": "Python 3.8.10 64-bit",
   "language": "python",
   "name": "python3810jvsc74a57bd0e7370f93d1d0cde622a1f8e1c04877d8463912d04d973331ad4851f04de6915a"
  },
  "language_info": {
   "codemirror_mode": {
    "name": "ipython",
    "version": 3
   },
   "file_extension": ".py",
   "mimetype": "text/x-python",
   "name": "python",
   "nbconvert_exporter": "python",
   "pygments_lexer": "ipython3",
   "version": "3.8.10"
  }
 },
 "nbformat": 4,
 "nbformat_minor": 5
}
