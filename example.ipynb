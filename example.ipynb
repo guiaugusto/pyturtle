{
 "cells": [
  {
   "cell_type": "code",
   "execution_count": 1,
   "id": "a5a2e4b3",
   "metadata": {},
   "outputs": [],
   "source": [
    "%%capture\n",
    "!jupyter nbextension install --py ipyxturtle --user\n",
    "!jupyter nbextension enable --sys-prefix --py ipyxturtle"
   ]
  },
  {
   "cell_type": "code",
   "execution_count": 9,
   "id": "01d2370e",
   "metadata": {
    "scrolled": false
   },
   "outputs": [
    {
     "data": {
      "application/vnd.jupyter.widget-view+json": {
       "model_id": "db552257786143348fc45bef7c5ba55b",
       "version_major": 2,
       "version_minor": 0
      },
      "text/plain": [
       "Canvas(height=300, sprite_scale=0.5, width=300)"
      ]
     },
     "metadata": {},
     "output_type": "display_data"
    }
   ],
   "source": [
    "from ipyxturtle import Canvas\n",
    "canvas = Canvas(width=300, height=300, sprite_scale=0.5)\n",
    "canvas"
   ]
  },
  {
   "cell_type": "code",
   "execution_count": 10,
   "id": "2e76672d",
   "metadata": {},
   "outputs": [],
   "source": [
    "turtle = canvas.create_turtle()"
   ]
  },
  {
   "cell_type": "code",
   "execution_count": 12,
   "id": "e3836bd8",
   "metadata": {},
   "outputs": [],
   "source": [
    "for _ in range(4):\n",
    "    turtle.forward(100)\n",
    "    turtle.right(90)"
   ]
  }
 ],
 "metadata": {
  "kernelspec": {
   "display_name": "Python 3 (ipykernel)",
   "language": "python",
   "name": "python3"
  },
  "language_info": {
   "codemirror_mode": {
    "name": "ipython",
    "version": 3
   },
   "file_extension": ".py",
   "mimetype": "text/x-python",
   "name": "python",
   "nbconvert_exporter": "python",
   "pygments_lexer": "ipython3",
   "version": "3.8.10"
  }
 },
 "nbformat": 4,
 "nbformat_minor": 5
}
