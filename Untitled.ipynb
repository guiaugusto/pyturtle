{
 "cells": [
  {
   "cell_type": "code",
   "execution_count": 1,
   "id": "ca236d23",
   "metadata": {},
   "outputs": [
    {
     "name": "stdout",
     "output_type": "stream",
     "text": [
      "Enabling notebook extension pyturtle/extension...\n",
      "      - Validating: \u001b[32mOK\u001b[0m\n",
      "Enabling notebook extension pyturtle/extension...\n",
      "      - Validating: \u001b[32mOK\u001b[0m\n"
     ]
    }
   ],
   "source": [
    "!jupyter nbextension enable pyturtle --py --sys-prefix\n",
    "!jupyter nbextension enable --sys-prefix --py pyturtle"
   ]
  },
  {
   "cell_type": "code",
   "execution_count": 2,
   "id": "01d2370e",
   "metadata": {},
   "outputs": [
    {
     "data": {
      "application/vnd.jupyter.widget-view+json": {
       "model_id": "66149ab43d114914b2ca35a70645c125",
       "version_major": 2,
       "version_minor": 0
      },
      "text/plain": [
       "TurtleCanvas()"
      ]
     },
     "metadata": {},
     "output_type": "display_data"
    }
   ],
   "source": [
    "from pyturtle import TurtleCanvas\n",
    "canvas = TurtleCanvas()\n",
    "canvas"
   ]
  },
  {
   "cell_type": "code",
   "execution_count": 3,
   "id": "2e76672d",
   "metadata": {},
   "outputs": [],
   "source": [
    "turtle = canvas.create_turtle()\n",
    "turtle2 = canvas.create_turtle()"
   ]
  },
  {
   "cell_type": "code",
   "execution_count": 4,
   "id": "e3836bd8",
   "metadata": {},
   "outputs": [],
   "source": [
    "for i in range(20):\n",
    "    turtle2.forward(i * 10)\n",
    "    turtle2.right(80)\n",
    "    turtle.forward(i * 10)\n",
    "    turtle.right(144)"
   ]
  }
 ],
 "metadata": {
  "kernelspec": {
   "display_name": "Python 3.8.10 64-bit",
   "language": "python",
   "name": "python3810jvsc74a57bd0e7370f93d1d0cde622a1f8e1c04877d8463912d04d973331ad4851f04de6915a"
  },
  "language_info": {
   "codemirror_mode": {
    "name": "ipython",
    "version": 3
   },
   "file_extension": ".py",
   "mimetype": "text/x-python",
   "name": "python",
   "nbconvert_exporter": "python",
   "pygments_lexer": "ipython3",
   "version": "3.8.10"
  }
 },
 "nbformat": 4,
 "nbformat_minor": 5
}
