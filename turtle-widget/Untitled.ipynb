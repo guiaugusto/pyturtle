{
 "cells": [
  {
   "cell_type": "code",
   "execution_count": 1,
   "id": "0b86d838",
   "metadata": {},
   "outputs": [
    {
     "name": "stdout",
     "output_type": "stream",
     "text": [
      "Installing /home/guilherme/Documentos/others/turtle-widget/turtle-widget/turtle-widget/turtle_widget/nbextension -> turtle-widget\n",
      "Removing: /home/guilherme/anaconda3/share/jupyter/nbextensions/turtle-widget\n",
      "Symlinking: /home/guilherme/anaconda3/share/jupyter/nbextensions/turtle-widget -> /home/guilherme/Documentos/others/turtle-widget/turtle-widget/turtle-widget/turtle_widget/nbextension\n",
      "- Validating: \u001b[32mOK\u001b[0m\n",
      "\n",
      "    To initialize this nbextension in the browser every time the notebook (or other app) loads:\n",
      "    \n",
      "          jupyter nbextension enable turtle_widget --py --sys-prefix\n",
      "    \n",
      "Enabling notebook extension turtle-widget/extension...\n",
      "      - Validating: \u001b[32mOK\u001b[0m\n"
     ]
    }
   ],
   "source": [
    "!jupyter nbextension install --sys-prefix --symlink --overwrite --py turtle_widget\n",
    "!jupyter nbextension enable --sys-prefix --py turtle_widget"
   ]
  },
  {
   "cell_type": "code",
   "execution_count": 2,
   "id": "e71f5e9d",
   "metadata": {},
   "outputs": [
    {
     "data": {
      "application/vnd.jupyter.widget-view+json": {
       "model_id": "ef723f4b6fdf435e82949343c5ce2122",
       "version_major": 2,
       "version_minor": 0
      },
      "text/plain": [
       "Turtle(command={'function_name': 'idle', 'args': []})"
      ]
     },
     "metadata": {},
     "output_type": "display_data"
    }
   ],
   "source": [
    "import turtle_widget\n",
    "\n",
    "w = turtle_widget\n",
    "turtle = w.Turtle()\n",
    "\n",
    "turtle"
   ]
  },
  {
   "cell_type": "code",
   "execution_count": 3,
   "id": "7e3e0e97",
   "metadata": {},
   "outputs": [],
   "source": [
    "turtle.forward(50)\n",
    "turtle.right(90)\n",
    "turtle.color('red')\n",
    "turtle.forward(50)\n",
    "turtle.right(90)\n",
    "turtle.color('blue')\n",
    "turtle.forward(50)\n",
    "turtle.right(90)\n",
    "turtle.color('green')\n",
    "turtle.forward(50)"
   ]
  },
  {
   "cell_type": "code",
   "execution_count": null,
   "id": "de1fa9a9",
   "metadata": {},
   "outputs": [],
   "source": []
  }
 ],
 "metadata": {
  "kernelspec": {
   "display_name": "Python 3",
   "language": "python",
   "name": "python3"
  },
  "language_info": {
   "codemirror_mode": {
    "name": "ipython",
    "version": 3
   },
   "file_extension": ".py",
   "mimetype": "text/x-python",
   "name": "python",
   "nbconvert_exporter": "python",
   "pygments_lexer": "ipython3",
   "version": "3.8.5"
  }
 },
 "nbformat": 4,
 "nbformat_minor": 5
}
