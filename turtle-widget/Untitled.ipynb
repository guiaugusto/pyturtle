{
 "cells": [
  {
   "cell_type": "code",
   "execution_count": 37,
   "id": "74b65fed",
   "metadata": {},
   "outputs": [
    {
     "name": "stdout",
     "output_type": "stream",
     "text": [
      "Installing /home/guilherme/Documentos/others/turtle-widget/turtle-widget/turtle-widget/turtle_widget/nbextension -> turtle-widget\n",
      "Removing: /home/guilherme/anaconda3/share/jupyter/nbextensions/turtle-widget\n",
      "Symlinking: /home/guilherme/anaconda3/share/jupyter/nbextensions/turtle-widget -> /home/guilherme/Documentos/others/turtle-widget/turtle-widget/turtle-widget/turtle_widget/nbextension\n",
      "- Validating: \u001b[32mOK\u001b[0m\n",
      "\n",
      "    To initialize this nbextension in the browser every time the notebook (or other app) loads:\n",
      "    \n",
      "          jupyter nbextension enable turtle_widget --py --sys-prefix\n",
      "    \n",
      "Enabling notebook extension turtle-widget/extension...\n",
      "      - Validating: \u001b[32mOK\u001b[0m\n"
     ]
    }
   ],
   "source": [
    "!jupyter nbextension install --sys-prefix --symlink --overwrite --py turtle_widget\n",
    "!jupyter nbextension enable --sys-prefix --py turtle_widget\n"
   ]
  },
  {
   "cell_type": "code",
   "execution_count": 34,
   "id": "bfd34a68",
   "metadata": {},
   "outputs": [],
   "source": [
    "import turtle_widget"
   ]
  },
  {
   "cell_type": "code",
   "execution_count": 35,
   "id": "72e1f3bc",
   "metadata": {},
   "outputs": [],
   "source": [
    "w = turtle_widget\n",
    "x = w.Turtle()"
   ]
  },
  {
   "cell_type": "code",
   "execution_count": 36,
   "id": "d8ba7614",
   "metadata": {},
   "outputs": [
    {
     "data": {
      "application/vnd.jupyter.widget-view+json": {
       "model_id": "07473e966d3d4ce09ce805cd3440773b",
       "version_major": 2,
       "version_minor": 0
      },
      "text/plain": [
       "Turtle()"
      ]
     },
     "metadata": {},
     "output_type": "display_data"
    }
   ],
   "source": [
    "x"
   ]
  },
  {
   "cell_type": "code",
   "execution_count": null,
   "id": "d388d36f",
   "metadata": {},
   "outputs": [],
   "source": []
  }
 ],
 "metadata": {
  "kernelspec": {
   "display_name": "Python 3",
   "language": "python",
   "name": "python3"
  },
  "language_info": {
   "codemirror_mode": {
    "name": "ipython",
    "version": 3
   },
   "file_extension": ".py",
   "mimetype": "text/x-python",
   "name": "python",
   "nbconvert_exporter": "python",
   "pygments_lexer": "ipython3",
   "version": "3.8.5"
  }
 },
 "nbformat": 4,
 "nbformat_minor": 5
}
