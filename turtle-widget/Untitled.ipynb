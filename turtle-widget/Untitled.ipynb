{
 "cells": [
  {
   "cell_type": "raw",
   "id": "432c58af",
   "metadata": {},
   "source": [
    "!jupyter nbextension install --sys-prefix --symlink --overwrite --py turtle_widget\n",
    "!jupyter nbextension enable --sys-prefix --py turtle_widget"
   ]
  },
  {
   "cell_type": "code",
   "execution_count": 1,
   "id": "e71f5e9d",
   "metadata": {},
   "outputs": [
    {
     "data": {
      "application/vnd.jupyter.widget-view+json": {
       "model_id": "14a07c8bd0314e7890f7bf41e49b0950",
       "version_major": 2,
       "version_minor": 0
      },
      "text/plain": [
       "TurtleCanvas(sprite_scale=0.2)"
      ]
     },
     "metadata": {},
     "output_type": "display_data"
    }
   ],
   "source": [
    "from turtle_widget import TurtleCanvas\n",
    "\n",
    "canvas = TurtleCanvas(sprite_scale=0.2)\n",
    "canvas"
   ]
  },
  {
   "cell_type": "code",
   "execution_count": 2,
   "id": "63b03542",
   "metadata": {},
   "outputs": [],
   "source": [
    "turtle = canvas.create_turtle()\n",
    "turtle2 = canvas.create_turtle()"
   ]
  },
  {
   "cell_type": "code",
   "execution_count": 3,
   "id": "33482d6c",
   "metadata": {},
   "outputs": [],
   "source": [
    "for i in range(20):\n",
    "    turtle2.forward(i * 10)\n",
    "    turtle2.right(80)\n",
    "    turtle.forward(i * 10)\n",
    "    turtle.right(144)"
   ]
  },
  {
   "cell_type": "code",
   "execution_count": null,
   "id": "993d9086",
   "metadata": {},
   "outputs": [],
   "source": []
  }
 ],
 "metadata": {
  "kernelspec": {
   "display_name": "Python 3",
   "language": "python",
   "name": "python3"
  },
  "language_info": {
   "codemirror_mode": {
    "name": "ipython",
    "version": 3
   },
   "file_extension": ".py",
   "mimetype": "text/x-python",
   "name": "python",
   "nbconvert_exporter": "python",
   "pygments_lexer": "ipython3",
   "version": "3.8.5"
  }
 },
 "nbformat": 4,
 "nbformat_minor": 5
}
